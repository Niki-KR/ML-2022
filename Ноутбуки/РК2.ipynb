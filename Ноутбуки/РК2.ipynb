{
  "nbformat": 4,
  "nbformat_minor": 0,
  "metadata": {
    "colab": {
      "name": "РК2 ММО.ipynb",
      "provenance": []
    },
    "kernelspec": {
      "name": "python3",
      "display_name": "Python 3"
    },
    "language_info": {
      "name": "python"
    }
  },
  "cells": [
    {
      "cell_type": "markdown",
      "source": [
        "# Рубежный контроль №2\n",
        "**Студент:** Кривцов Н.А.  \n",
        "**Группа:** ИУ5-22М   \n",
        "**Вариант:** 7  \n",
        "**Классификатор №1:** RandomForestClassifier  \n",
        "**Классификатор №2:** Complement Naive Bayes"
      ],
      "metadata": {
        "id": "3y-1-I74sYT-"
      }
    },
    {
      "cell_type": "markdown",
      "source": [
        "## Импорт библиотек"
      ],
      "metadata": {
        "id": "3-4kran42ica"
      }
    },
    {
      "cell_type": "code",
      "execution_count": 16,
      "metadata": {
        "id": "xSv9eSuusXsz"
      },
      "outputs": [],
      "source": [
        "import pandas as pd\n",
        "from sklearn.feature_extraction.text import CountVectorizer, TfidfVectorizer\n",
        "from sklearn.model_selection import train_test_split, cross_val_score\n",
        "from sklearn.ensemble import RandomForestClassifier\n",
        "from sklearn.naive_bayes import ComplementNB\n",
        "%matplotlib inline"
      ]
    },
    {
      "cell_type": "markdown",
      "source": [
        "## Загрузка и просмотр датасета"
      ],
      "metadata": {
        "id": "zMpn-jIR3LYf"
      }
    },
    {
      "cell_type": "markdown",
      "source": [
        "В рамках настоящего РК будет решена задача классификации текстов обзоров фильмов. Целевой признак - жанр фильма. Исходный датасет также содержит сторонние признаки, которые не будут использоваться в разрабатываемых моделях."
      ],
      "metadata": {
        "id": "ooQifKbiIdch"
      }
    },
    {
      "cell_type": "code",
      "source": [
        "data = pd.read_csv('/content/drive/MyDrive/ММО/wiki_movie_plots_deduped.csv')"
      ],
      "metadata": {
        "id": "eXzULamF3iwo"
      },
      "execution_count": 2,
      "outputs": []
    },
    {
      "cell_type": "code",
      "source": [
        "data.shape"
      ],
      "metadata": {
        "colab": {
          "base_uri": "https://localhost:8080/"
        },
        "id": "ImJjGj_D4e4M",
        "outputId": "af906908-a87c-4571-d059-71df1e092828"
      },
      "execution_count": 3,
      "outputs": [
        {
          "output_type": "execute_result",
          "data": {
            "text/plain": [
              "(34886, 8)"
            ]
          },
          "metadata": {},
          "execution_count": 3
        }
      ]
    },
    {
      "cell_type": "code",
      "source": [
        "data.head()"
      ],
      "metadata": {
        "colab": {
          "base_uri": "https://localhost:8080/",
          "height": 389
        },
        "id": "Ro3SaLFB3pom",
        "outputId": "a9c1818c-4ffa-4647-ff3c-ce98bc8c894b"
      },
      "execution_count": 4,
      "outputs": [
        {
          "output_type": "execute_result",
          "data": {
            "text/plain": [
              "   Release Year                             Title Origin/Ethnicity  \\\n",
              "0          1901            Kansas Saloon Smashers         American   \n",
              "1          1901     Love by the Light of the Moon         American   \n",
              "2          1901           The Martyred Presidents         American   \n",
              "3          1901  Terrible Teddy, the Grizzly King         American   \n",
              "4          1902            Jack and the Beanstalk         American   \n",
              "\n",
              "                             Director Cast    Genre  \\\n",
              "0                             Unknown  NaN  unknown   \n",
              "1                             Unknown  NaN  unknown   \n",
              "2                             Unknown  NaN  unknown   \n",
              "3                             Unknown  NaN  unknown   \n",
              "4  George S. Fleming, Edwin S. Porter  NaN  unknown   \n",
              "\n",
              "                                           Wiki Page  \\\n",
              "0  https://en.wikipedia.org/wiki/Kansas_Saloon_Sm...   \n",
              "1  https://en.wikipedia.org/wiki/Love_by_the_Ligh...   \n",
              "2  https://en.wikipedia.org/wiki/The_Martyred_Pre...   \n",
              "3  https://en.wikipedia.org/wiki/Terrible_Teddy,_...   \n",
              "4  https://en.wikipedia.org/wiki/Jack_and_the_Bea...   \n",
              "\n",
              "                                                Plot  \n",
              "0  A bartender is working at a saloon, serving dr...  \n",
              "1  The moon, painted with a smiling face hangs ov...  \n",
              "2  The film, just over a minute long, is composed...  \n",
              "3  Lasting just 61 seconds and consisting of two ...  \n",
              "4  The earliest known adaptation of the classic f...  "
            ],
            "text/html": [
              "\n",
              "  <div id=\"df-79106b03-e5f7-4494-800c-9b39b14496c0\">\n",
              "    <div class=\"colab-df-container\">\n",
              "      <div>\n",
              "<style scoped>\n",
              "    .dataframe tbody tr th:only-of-type {\n",
              "        vertical-align: middle;\n",
              "    }\n",
              "\n",
              "    .dataframe tbody tr th {\n",
              "        vertical-align: top;\n",
              "    }\n",
              "\n",
              "    .dataframe thead th {\n",
              "        text-align: right;\n",
              "    }\n",
              "</style>\n",
              "<table border=\"1\" class=\"dataframe\">\n",
              "  <thead>\n",
              "    <tr style=\"text-align: right;\">\n",
              "      <th></th>\n",
              "      <th>Release Year</th>\n",
              "      <th>Title</th>\n",
              "      <th>Origin/Ethnicity</th>\n",
              "      <th>Director</th>\n",
              "      <th>Cast</th>\n",
              "      <th>Genre</th>\n",
              "      <th>Wiki Page</th>\n",
              "      <th>Plot</th>\n",
              "    </tr>\n",
              "  </thead>\n",
              "  <tbody>\n",
              "    <tr>\n",
              "      <th>0</th>\n",
              "      <td>1901</td>\n",
              "      <td>Kansas Saloon Smashers</td>\n",
              "      <td>American</td>\n",
              "      <td>Unknown</td>\n",
              "      <td>NaN</td>\n",
              "      <td>unknown</td>\n",
              "      <td>https://en.wikipedia.org/wiki/Kansas_Saloon_Sm...</td>\n",
              "      <td>A bartender is working at a saloon, serving dr...</td>\n",
              "    </tr>\n",
              "    <tr>\n",
              "      <th>1</th>\n",
              "      <td>1901</td>\n",
              "      <td>Love by the Light of the Moon</td>\n",
              "      <td>American</td>\n",
              "      <td>Unknown</td>\n",
              "      <td>NaN</td>\n",
              "      <td>unknown</td>\n",
              "      <td>https://en.wikipedia.org/wiki/Love_by_the_Ligh...</td>\n",
              "      <td>The moon, painted with a smiling face hangs ov...</td>\n",
              "    </tr>\n",
              "    <tr>\n",
              "      <th>2</th>\n",
              "      <td>1901</td>\n",
              "      <td>The Martyred Presidents</td>\n",
              "      <td>American</td>\n",
              "      <td>Unknown</td>\n",
              "      <td>NaN</td>\n",
              "      <td>unknown</td>\n",
              "      <td>https://en.wikipedia.org/wiki/The_Martyred_Pre...</td>\n",
              "      <td>The film, just over a minute long, is composed...</td>\n",
              "    </tr>\n",
              "    <tr>\n",
              "      <th>3</th>\n",
              "      <td>1901</td>\n",
              "      <td>Terrible Teddy, the Grizzly King</td>\n",
              "      <td>American</td>\n",
              "      <td>Unknown</td>\n",
              "      <td>NaN</td>\n",
              "      <td>unknown</td>\n",
              "      <td>https://en.wikipedia.org/wiki/Terrible_Teddy,_...</td>\n",
              "      <td>Lasting just 61 seconds and consisting of two ...</td>\n",
              "    </tr>\n",
              "    <tr>\n",
              "      <th>4</th>\n",
              "      <td>1902</td>\n",
              "      <td>Jack and the Beanstalk</td>\n",
              "      <td>American</td>\n",
              "      <td>George S. Fleming, Edwin S. Porter</td>\n",
              "      <td>NaN</td>\n",
              "      <td>unknown</td>\n",
              "      <td>https://en.wikipedia.org/wiki/Jack_and_the_Bea...</td>\n",
              "      <td>The earliest known adaptation of the classic f...</td>\n",
              "    </tr>\n",
              "  </tbody>\n",
              "</table>\n",
              "</div>\n",
              "      <button class=\"colab-df-convert\" onclick=\"convertToInteractive('df-79106b03-e5f7-4494-800c-9b39b14496c0')\"\n",
              "              title=\"Convert this dataframe to an interactive table.\"\n",
              "              style=\"display:none;\">\n",
              "        \n",
              "  <svg xmlns=\"http://www.w3.org/2000/svg\" height=\"24px\"viewBox=\"0 0 24 24\"\n",
              "       width=\"24px\">\n",
              "    <path d=\"M0 0h24v24H0V0z\" fill=\"none\"/>\n",
              "    <path d=\"M18.56 5.44l.94 2.06.94-2.06 2.06-.94-2.06-.94-.94-2.06-.94 2.06-2.06.94zm-11 1L8.5 8.5l.94-2.06 2.06-.94-2.06-.94L8.5 2.5l-.94 2.06-2.06.94zm10 10l.94 2.06.94-2.06 2.06-.94-2.06-.94-.94-2.06-.94 2.06-2.06.94z\"/><path d=\"M17.41 7.96l-1.37-1.37c-.4-.4-.92-.59-1.43-.59-.52 0-1.04.2-1.43.59L10.3 9.45l-7.72 7.72c-.78.78-.78 2.05 0 2.83L4 21.41c.39.39.9.59 1.41.59.51 0 1.02-.2 1.41-.59l7.78-7.78 2.81-2.81c.8-.78.8-2.07 0-2.86zM5.41 20L4 18.59l7.72-7.72 1.47 1.35L5.41 20z\"/>\n",
              "  </svg>\n",
              "      </button>\n",
              "      \n",
              "  <style>\n",
              "    .colab-df-container {\n",
              "      display:flex;\n",
              "      flex-wrap:wrap;\n",
              "      gap: 12px;\n",
              "    }\n",
              "\n",
              "    .colab-df-convert {\n",
              "      background-color: #E8F0FE;\n",
              "      border: none;\n",
              "      border-radius: 50%;\n",
              "      cursor: pointer;\n",
              "      display: none;\n",
              "      fill: #1967D2;\n",
              "      height: 32px;\n",
              "      padding: 0 0 0 0;\n",
              "      width: 32px;\n",
              "    }\n",
              "\n",
              "    .colab-df-convert:hover {\n",
              "      background-color: #E2EBFA;\n",
              "      box-shadow: 0px 1px 2px rgba(60, 64, 67, 0.3), 0px 1px 3px 1px rgba(60, 64, 67, 0.15);\n",
              "      fill: #174EA6;\n",
              "    }\n",
              "\n",
              "    [theme=dark] .colab-df-convert {\n",
              "      background-color: #3B4455;\n",
              "      fill: #D2E3FC;\n",
              "    }\n",
              "\n",
              "    [theme=dark] .colab-df-convert:hover {\n",
              "      background-color: #434B5C;\n",
              "      box-shadow: 0px 1px 3px 1px rgba(0, 0, 0, 0.15);\n",
              "      filter: drop-shadow(0px 1px 2px rgba(0, 0, 0, 0.3));\n",
              "      fill: #FFFFFF;\n",
              "    }\n",
              "  </style>\n",
              "\n",
              "      <script>\n",
              "        const buttonEl =\n",
              "          document.querySelector('#df-79106b03-e5f7-4494-800c-9b39b14496c0 button.colab-df-convert');\n",
              "        buttonEl.style.display =\n",
              "          google.colab.kernel.accessAllowed ? 'block' : 'none';\n",
              "\n",
              "        async function convertToInteractive(key) {\n",
              "          const element = document.querySelector('#df-79106b03-e5f7-4494-800c-9b39b14496c0');\n",
              "          const dataTable =\n",
              "            await google.colab.kernel.invokeFunction('convertToInteractive',\n",
              "                                                     [key], {});\n",
              "          if (!dataTable) return;\n",
              "\n",
              "          const docLinkHtml = 'Like what you see? Visit the ' +\n",
              "            '<a target=\"_blank\" href=https://colab.research.google.com/notebooks/data_table.ipynb>data table notebook</a>'\n",
              "            + ' to learn more about interactive tables.';\n",
              "          element.innerHTML = '';\n",
              "          dataTable['output_type'] = 'display_data';\n",
              "          await google.colab.output.renderOutput(dataTable, element);\n",
              "          const docLink = document.createElement('div');\n",
              "          docLink.innerHTML = docLinkHtml;\n",
              "          element.appendChild(docLink);\n",
              "        }\n",
              "      </script>\n",
              "    </div>\n",
              "  </div>\n",
              "  "
            ]
          },
          "metadata": {},
          "execution_count": 4
        }
      ]
    },
    {
      "cell_type": "code",
      "source": [
        "# фильтрация датасета и выбор исследуемых признаков\n",
        "df = data[['Genre', 'Plot']]\n",
        "df = df[(df.Genre == 'drama') | (df.Genre =='comedy')]\n",
        "df.Genre.value_counts(normalize=True)"
      ],
      "metadata": {
        "colab": {
          "base_uri": "https://localhost:8080/"
        },
        "id": "kGMMZCh-6zVx",
        "outputId": "6b85a396-b88c-4895-d939-fdb6466f2bec"
      },
      "execution_count": 5,
      "outputs": [
        {
          "output_type": "execute_result",
          "data": {
            "text/plain": [
              "drama     0.576622\n",
              "comedy    0.423378\n",
              "Name: Genre, dtype: float64"
            ]
          },
          "metadata": {},
          "execution_count": 5
        }
      ]
    },
    {
      "cell_type": "code",
      "source": [
        "df.head()"
      ],
      "metadata": {
        "colab": {
          "base_uri": "https://localhost:8080/",
          "height": 206
        },
        "id": "thrXVXQm8rx5",
        "outputId": "59066b20-aef4-4081-d39e-cc1940db370d"
      },
      "execution_count": 6,
      "outputs": [
        {
          "output_type": "execute_result",
          "data": {
            "text/plain": [
              "     Genre                                               Plot\n",
              "7   comedy  The film is about a family who move to the sub...\n",
              "14  comedy  Before heading out to a baseball game at a nea...\n",
              "15  comedy  The plot is that of a black woman going to the...\n",
              "16   drama  On a beautiful summer day a father and mother ...\n",
              "17   drama  A thug accosts a girl as she leaves her workpl..."
            ],
            "text/html": [
              "\n",
              "  <div id=\"df-ceff04fe-32c2-42a3-84e8-16159ac195e6\">\n",
              "    <div class=\"colab-df-container\">\n",
              "      <div>\n",
              "<style scoped>\n",
              "    .dataframe tbody tr th:only-of-type {\n",
              "        vertical-align: middle;\n",
              "    }\n",
              "\n",
              "    .dataframe tbody tr th {\n",
              "        vertical-align: top;\n",
              "    }\n",
              "\n",
              "    .dataframe thead th {\n",
              "        text-align: right;\n",
              "    }\n",
              "</style>\n",
              "<table border=\"1\" class=\"dataframe\">\n",
              "  <thead>\n",
              "    <tr style=\"text-align: right;\">\n",
              "      <th></th>\n",
              "      <th>Genre</th>\n",
              "      <th>Plot</th>\n",
              "    </tr>\n",
              "  </thead>\n",
              "  <tbody>\n",
              "    <tr>\n",
              "      <th>7</th>\n",
              "      <td>comedy</td>\n",
              "      <td>The film is about a family who move to the sub...</td>\n",
              "    </tr>\n",
              "    <tr>\n",
              "      <th>14</th>\n",
              "      <td>comedy</td>\n",
              "      <td>Before heading out to a baseball game at a nea...</td>\n",
              "    </tr>\n",
              "    <tr>\n",
              "      <th>15</th>\n",
              "      <td>comedy</td>\n",
              "      <td>The plot is that of a black woman going to the...</td>\n",
              "    </tr>\n",
              "    <tr>\n",
              "      <th>16</th>\n",
              "      <td>drama</td>\n",
              "      <td>On a beautiful summer day a father and mother ...</td>\n",
              "    </tr>\n",
              "    <tr>\n",
              "      <th>17</th>\n",
              "      <td>drama</td>\n",
              "      <td>A thug accosts a girl as she leaves her workpl...</td>\n",
              "    </tr>\n",
              "  </tbody>\n",
              "</table>\n",
              "</div>\n",
              "      <button class=\"colab-df-convert\" onclick=\"convertToInteractive('df-ceff04fe-32c2-42a3-84e8-16159ac195e6')\"\n",
              "              title=\"Convert this dataframe to an interactive table.\"\n",
              "              style=\"display:none;\">\n",
              "        \n",
              "  <svg xmlns=\"http://www.w3.org/2000/svg\" height=\"24px\"viewBox=\"0 0 24 24\"\n",
              "       width=\"24px\">\n",
              "    <path d=\"M0 0h24v24H0V0z\" fill=\"none\"/>\n",
              "    <path d=\"M18.56 5.44l.94 2.06.94-2.06 2.06-.94-2.06-.94-.94-2.06-.94 2.06-2.06.94zm-11 1L8.5 8.5l.94-2.06 2.06-.94-2.06-.94L8.5 2.5l-.94 2.06-2.06.94zm10 10l.94 2.06.94-2.06 2.06-.94-2.06-.94-.94-2.06-.94 2.06-2.06.94z\"/><path d=\"M17.41 7.96l-1.37-1.37c-.4-.4-.92-.59-1.43-.59-.52 0-1.04.2-1.43.59L10.3 9.45l-7.72 7.72c-.78.78-.78 2.05 0 2.83L4 21.41c.39.39.9.59 1.41.59.51 0 1.02-.2 1.41-.59l7.78-7.78 2.81-2.81c.8-.78.8-2.07 0-2.86zM5.41 20L4 18.59l7.72-7.72 1.47 1.35L5.41 20z\"/>\n",
              "  </svg>\n",
              "      </button>\n",
              "      \n",
              "  <style>\n",
              "    .colab-df-container {\n",
              "      display:flex;\n",
              "      flex-wrap:wrap;\n",
              "      gap: 12px;\n",
              "    }\n",
              "\n",
              "    .colab-df-convert {\n",
              "      background-color: #E8F0FE;\n",
              "      border: none;\n",
              "      border-radius: 50%;\n",
              "      cursor: pointer;\n",
              "      display: none;\n",
              "      fill: #1967D2;\n",
              "      height: 32px;\n",
              "      padding: 0 0 0 0;\n",
              "      width: 32px;\n",
              "    }\n",
              "\n",
              "    .colab-df-convert:hover {\n",
              "      background-color: #E2EBFA;\n",
              "      box-shadow: 0px 1px 2px rgba(60, 64, 67, 0.3), 0px 1px 3px 1px rgba(60, 64, 67, 0.15);\n",
              "      fill: #174EA6;\n",
              "    }\n",
              "\n",
              "    [theme=dark] .colab-df-convert {\n",
              "      background-color: #3B4455;\n",
              "      fill: #D2E3FC;\n",
              "    }\n",
              "\n",
              "    [theme=dark] .colab-df-convert:hover {\n",
              "      background-color: #434B5C;\n",
              "      box-shadow: 0px 1px 3px 1px rgba(0, 0, 0, 0.15);\n",
              "      filter: drop-shadow(0px 1px 2px rgba(0, 0, 0, 0.3));\n",
              "      fill: #FFFFFF;\n",
              "    }\n",
              "  </style>\n",
              "\n",
              "      <script>\n",
              "        const buttonEl =\n",
              "          document.querySelector('#df-ceff04fe-32c2-42a3-84e8-16159ac195e6 button.colab-df-convert');\n",
              "        buttonEl.style.display =\n",
              "          google.colab.kernel.accessAllowed ? 'block' : 'none';\n",
              "\n",
              "        async function convertToInteractive(key) {\n",
              "          const element = document.querySelector('#df-ceff04fe-32c2-42a3-84e8-16159ac195e6');\n",
              "          const dataTable =\n",
              "            await google.colab.kernel.invokeFunction('convertToInteractive',\n",
              "                                                     [key], {});\n",
              "          if (!dataTable) return;\n",
              "\n",
              "          const docLinkHtml = 'Like what you see? Visit the ' +\n",
              "            '<a target=\"_blank\" href=https://colab.research.google.com/notebooks/data_table.ipynb>data table notebook</a>'\n",
              "            + ' to learn more about interactive tables.';\n",
              "          element.innerHTML = '';\n",
              "          dataTable['output_type'] = 'display_data';\n",
              "          await google.colab.output.renderOutput(dataTable, element);\n",
              "          const docLink = document.createElement('div');\n",
              "          docLink.innerHTML = docLinkHtml;\n",
              "          element.appendChild(docLink);\n",
              "        }\n",
              "      </script>\n",
              "    </div>\n",
              "  </div>\n",
              "  "
            ]
          },
          "metadata": {},
          "execution_count": 6
        }
      ]
    },
    {
      "cell_type": "code",
      "source": [
        "VECTORIZERS = [CountVectorizer(analyzer='char_wb', ngram_range=(3, 6)), \n",
        "               TfidfVectorizer(analyzer='char_wb', ngram_range=(3, 6))]\n",
        "CLASSIFIERS = [ComplementNB(), RandomForestClassifier(max_depth=3)]"
      ],
      "metadata": {
        "id": "0lyRtbI7_ZMj"
      },
      "execution_count": 26,
      "outputs": []
    },
    {
      "cell_type": "code",
      "source": [
        "for v in VECTORIZERS:\n",
        "  X = v.fit_transform(df.Plot)\n",
        "  for cl in CLASSIFIERS:\n",
        "    print(\"Векторизатор: {}\\nКлассификатор: {}\".format(type(v), type(cl)))\n",
        "    print(\"Точность: {}\".format(cross_val_score(cl, X, df.Genre, scoring='accuracy').mean()))"
      ],
      "metadata": {
        "colab": {
          "base_uri": "https://localhost:8080/"
        },
        "id": "9NFhDG2oEOUn",
        "outputId": "e279ba27-8c92-4570-abe6-e2eb289d99d2"
      },
      "execution_count": 28,
      "outputs": [
        {
          "output_type": "stream",
          "name": "stdout",
          "text": [
            "Векторизатор: <class 'sklearn.feature_extraction.text.CountVectorizer'>\n",
            "Классификатор: <class 'sklearn.naive_bayes.ComplementNB'>\n",
            "Точность: 0.7334455950556852\n",
            "Векторизатор: <class 'sklearn.feature_extraction.text.CountVectorizer'>\n",
            "Классификатор: <class 'sklearn.ensemble._forest.RandomForestClassifier'>\n",
            "Точность: 0.5784586504473797\n",
            "Векторизатор: <class 'sklearn.feature_extraction.text.TfidfVectorizer'>\n",
            "Классификатор: <class 'sklearn.naive_bayes.ComplementNB'>\n",
            "Точность: 0.5778785666273711\n",
            "Векторизатор: <class 'sklearn.feature_extraction.text.TfidfVectorizer'>\n",
            "Классификатор: <class 'sklearn.ensemble._forest.RandomForestClassifier'>\n",
            "Точность: 0.5769118693282901\n"
          ]
        }
      ]
    },
    {
      "cell_type": "markdown",
      "source": [
        "Значения показателей качества моделей могут быть обусловлены значениями гиперпараметров моделей, анализ которых в рамках данной работы не производился.\n",
        "\n",
        "Наилучшую точность показали векторизатор `CountVectorizer` с классификатором `ComplementNB`. "
      ],
      "metadata": {
        "id": "DHgoqXpSHj4X"
      }
    }
  ]
}